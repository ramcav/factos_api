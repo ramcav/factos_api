{
 "cells": [
  {
   "cell_type": "markdown",
   "metadata": {},
   "source": [
    "# CNN for classifying fake news"
   ]
  },
  {
   "cell_type": "code",
   "execution_count": 35,
   "metadata": {},
   "outputs": [
    {
     "name": "stdout",
     "output_type": "stream",
     "text": [
      "Requirement already satisfied: scikit-learn in /Users/ricardomendezcavalieri/Developer/work/IE/Y3/NLP/factos_api/venv/lib/python3.12/site-packages (1.6.1)\n",
      "Requirement already satisfied: numpy>=1.19.5 in /Users/ricardomendezcavalieri/Developer/work/IE/Y3/NLP/factos_api/venv/lib/python3.12/site-packages (from scikit-learn) (2.1.3)\n",
      "Requirement already satisfied: scipy>=1.6.0 in /Users/ricardomendezcavalieri/Developer/work/IE/Y3/NLP/factos_api/venv/lib/python3.12/site-packages (from scikit-learn) (1.15.2)\n",
      "Requirement already satisfied: joblib>=1.2.0 in /Users/ricardomendezcavalieri/Developer/work/IE/Y3/NLP/factos_api/venv/lib/python3.12/site-packages (from scikit-learn) (1.4.2)\n",
      "Requirement already satisfied: threadpoolctl>=3.1.0 in /Users/ricardomendezcavalieri/Developer/work/IE/Y3/NLP/factos_api/venv/lib/python3.12/site-packages (from scikit-learn) (3.6.0)\n",
      "\n",
      "\u001b[1m[\u001b[0m\u001b[34;49mnotice\u001b[0m\u001b[1;39;49m]\u001b[0m\u001b[39;49m A new release of pip is available: \u001b[0m\u001b[31;49m24.0\u001b[0m\u001b[39;49m -> \u001b[0m\u001b[32;49m25.0.1\u001b[0m\n",
      "\u001b[1m[\u001b[0m\u001b[34;49mnotice\u001b[0m\u001b[1;39;49m]\u001b[0m\u001b[39;49m To update, run: \u001b[0m\u001b[32;49mpip install --upgrade pip\u001b[0m\n",
      "Requirement already satisfied: keras in /Users/ricardomendezcavalieri/Developer/work/IE/Y3/NLP/factos_api/venv/lib/python3.12/site-packages (3.9.2)\n",
      "Requirement already satisfied: absl-py in /Users/ricardomendezcavalieri/Developer/work/IE/Y3/NLP/factos_api/venv/lib/python3.12/site-packages (from keras) (2.2.2)\n",
      "Requirement already satisfied: numpy in /Users/ricardomendezcavalieri/Developer/work/IE/Y3/NLP/factos_api/venv/lib/python3.12/site-packages (from keras) (2.1.3)\n",
      "Requirement already satisfied: rich in /Users/ricardomendezcavalieri/Developer/work/IE/Y3/NLP/factos_api/venv/lib/python3.12/site-packages (from keras) (14.0.0)\n",
      "Requirement already satisfied: namex in /Users/ricardomendezcavalieri/Developer/work/IE/Y3/NLP/factos_api/venv/lib/python3.12/site-packages (from keras) (0.0.9)\n",
      "Requirement already satisfied: h5py in /Users/ricardomendezcavalieri/Developer/work/IE/Y3/NLP/factos_api/venv/lib/python3.12/site-packages (from keras) (3.13.0)\n",
      "Requirement already satisfied: optree in /Users/ricardomendezcavalieri/Developer/work/IE/Y3/NLP/factos_api/venv/lib/python3.12/site-packages (from keras) (0.15.0)\n",
      "Requirement already satisfied: ml-dtypes in /Users/ricardomendezcavalieri/Developer/work/IE/Y3/NLP/factos_api/venv/lib/python3.12/site-packages (from keras) (0.5.1)\n",
      "Requirement already satisfied: packaging in /Users/ricardomendezcavalieri/Developer/work/IE/Y3/NLP/factos_api/venv/lib/python3.12/site-packages (from keras) (24.2)\n",
      "Requirement already satisfied: typing-extensions>=4.5.0 in /Users/ricardomendezcavalieri/Developer/work/IE/Y3/NLP/factos_api/venv/lib/python3.12/site-packages (from optree->keras) (4.13.2)\n",
      "Requirement already satisfied: markdown-it-py>=2.2.0 in /Users/ricardomendezcavalieri/Developer/work/IE/Y3/NLP/factos_api/venv/lib/python3.12/site-packages (from rich->keras) (3.0.0)\n",
      "Requirement already satisfied: pygments<3.0.0,>=2.13.0 in /Users/ricardomendezcavalieri/Developer/work/IE/Y3/NLP/factos_api/venv/lib/python3.12/site-packages (from rich->keras) (2.19.1)\n",
      "Requirement already satisfied: mdurl~=0.1 in /Users/ricardomendezcavalieri/Developer/work/IE/Y3/NLP/factos_api/venv/lib/python3.12/site-packages (from markdown-it-py>=2.2.0->rich->keras) (0.1.2)\n",
      "\n",
      "\u001b[1m[\u001b[0m\u001b[34;49mnotice\u001b[0m\u001b[1;39;49m]\u001b[0m\u001b[39;49m A new release of pip is available: \u001b[0m\u001b[31;49m24.0\u001b[0m\u001b[39;49m -> \u001b[0m\u001b[32;49m25.0.1\u001b[0m\n",
      "\u001b[1m[\u001b[0m\u001b[34;49mnotice\u001b[0m\u001b[1;39;49m]\u001b[0m\u001b[39;49m To update, run: \u001b[0m\u001b[32;49mpip install --upgrade pip\u001b[0m\n",
      "Requirement already satisfied: tensorflow in /Users/ricardomendezcavalieri/Developer/work/IE/Y3/NLP/factos_api/venv/lib/python3.12/site-packages (2.19.0)\n",
      "Requirement already satisfied: absl-py>=1.0.0 in /Users/ricardomendezcavalieri/Developer/work/IE/Y3/NLP/factos_api/venv/lib/python3.12/site-packages (from tensorflow) (2.2.2)\n",
      "Requirement already satisfied: astunparse>=1.6.0 in /Users/ricardomendezcavalieri/Developer/work/IE/Y3/NLP/factos_api/venv/lib/python3.12/site-packages (from tensorflow) (1.6.3)\n",
      "Requirement already satisfied: flatbuffers>=24.3.25 in /Users/ricardomendezcavalieri/Developer/work/IE/Y3/NLP/factos_api/venv/lib/python3.12/site-packages (from tensorflow) (25.2.10)\n",
      "Requirement already satisfied: gast!=0.5.0,!=0.5.1,!=0.5.2,>=0.2.1 in /Users/ricardomendezcavalieri/Developer/work/IE/Y3/NLP/factos_api/venv/lib/python3.12/site-packages (from tensorflow) (0.6.0)\n",
      "Requirement already satisfied: google-pasta>=0.1.1 in /Users/ricardomendezcavalieri/Developer/work/IE/Y3/NLP/factos_api/venv/lib/python3.12/site-packages (from tensorflow) (0.2.0)\n",
      "Requirement already satisfied: libclang>=13.0.0 in /Users/ricardomendezcavalieri/Developer/work/IE/Y3/NLP/factos_api/venv/lib/python3.12/site-packages (from tensorflow) (18.1.1)\n",
      "Requirement already satisfied: opt-einsum>=2.3.2 in /Users/ricardomendezcavalieri/Developer/work/IE/Y3/NLP/factos_api/venv/lib/python3.12/site-packages (from tensorflow) (3.4.0)\n",
      "Requirement already satisfied: packaging in /Users/ricardomendezcavalieri/Developer/work/IE/Y3/NLP/factos_api/venv/lib/python3.12/site-packages (from tensorflow) (24.2)\n",
      "Requirement already satisfied: protobuf!=4.21.0,!=4.21.1,!=4.21.2,!=4.21.3,!=4.21.4,!=4.21.5,<6.0.0dev,>=3.20.3 in /Users/ricardomendezcavalieri/Developer/work/IE/Y3/NLP/factos_api/venv/lib/python3.12/site-packages (from tensorflow) (5.29.4)\n",
      "Requirement already satisfied: requests<3,>=2.21.0 in /Users/ricardomendezcavalieri/Developer/work/IE/Y3/NLP/factos_api/venv/lib/python3.12/site-packages (from tensorflow) (2.32.3)\n",
      "Requirement already satisfied: setuptools in /Users/ricardomendezcavalieri/Developer/work/IE/Y3/NLP/factos_api/venv/lib/python3.12/site-packages (from tensorflow) (78.1.0)\n",
      "Requirement already satisfied: six>=1.12.0 in /Users/ricardomendezcavalieri/Developer/work/IE/Y3/NLP/factos_api/venv/lib/python3.12/site-packages (from tensorflow) (1.17.0)\n",
      "Requirement already satisfied: termcolor>=1.1.0 in /Users/ricardomendezcavalieri/Developer/work/IE/Y3/NLP/factos_api/venv/lib/python3.12/site-packages (from tensorflow) (3.0.1)\n",
      "Requirement already satisfied: typing-extensions>=3.6.6 in /Users/ricardomendezcavalieri/Developer/work/IE/Y3/NLP/factos_api/venv/lib/python3.12/site-packages (from tensorflow) (4.13.2)\n",
      "Requirement already satisfied: wrapt>=1.11.0 in /Users/ricardomendezcavalieri/Developer/work/IE/Y3/NLP/factos_api/venv/lib/python3.12/site-packages (from tensorflow) (1.17.2)\n",
      "Requirement already satisfied: grpcio<2.0,>=1.24.3 in /Users/ricardomendezcavalieri/Developer/work/IE/Y3/NLP/factos_api/venv/lib/python3.12/site-packages (from tensorflow) (1.71.0)\n",
      "Requirement already satisfied: tensorboard~=2.19.0 in /Users/ricardomendezcavalieri/Developer/work/IE/Y3/NLP/factos_api/venv/lib/python3.12/site-packages (from tensorflow) (2.19.0)\n",
      "Requirement already satisfied: keras>=3.5.0 in /Users/ricardomendezcavalieri/Developer/work/IE/Y3/NLP/factos_api/venv/lib/python3.12/site-packages (from tensorflow) (3.9.2)\n",
      "Requirement already satisfied: numpy<2.2.0,>=1.26.0 in /Users/ricardomendezcavalieri/Developer/work/IE/Y3/NLP/factos_api/venv/lib/python3.12/site-packages (from tensorflow) (2.1.3)\n",
      "Requirement already satisfied: h5py>=3.11.0 in /Users/ricardomendezcavalieri/Developer/work/IE/Y3/NLP/factos_api/venv/lib/python3.12/site-packages (from tensorflow) (3.13.0)\n",
      "Requirement already satisfied: ml-dtypes<1.0.0,>=0.5.1 in /Users/ricardomendezcavalieri/Developer/work/IE/Y3/NLP/factos_api/venv/lib/python3.12/site-packages (from tensorflow) (0.5.1)\n",
      "Requirement already satisfied: wheel<1.0,>=0.23.0 in /Users/ricardomendezcavalieri/Developer/work/IE/Y3/NLP/factos_api/venv/lib/python3.12/site-packages (from astunparse>=1.6.0->tensorflow) (0.45.1)\n",
      "Requirement already satisfied: rich in /Users/ricardomendezcavalieri/Developer/work/IE/Y3/NLP/factos_api/venv/lib/python3.12/site-packages (from keras>=3.5.0->tensorflow) (14.0.0)\n",
      "Requirement already satisfied: namex in /Users/ricardomendezcavalieri/Developer/work/IE/Y3/NLP/factos_api/venv/lib/python3.12/site-packages (from keras>=3.5.0->tensorflow) (0.0.9)\n",
      "Requirement already satisfied: optree in /Users/ricardomendezcavalieri/Developer/work/IE/Y3/NLP/factos_api/venv/lib/python3.12/site-packages (from keras>=3.5.0->tensorflow) (0.15.0)\n",
      "Requirement already satisfied: charset-normalizer<4,>=2 in /Users/ricardomendezcavalieri/Developer/work/IE/Y3/NLP/factos_api/venv/lib/python3.12/site-packages (from requests<3,>=2.21.0->tensorflow) (3.4.1)\n",
      "Requirement already satisfied: idna<4,>=2.5 in /Users/ricardomendezcavalieri/Developer/work/IE/Y3/NLP/factos_api/venv/lib/python3.12/site-packages (from requests<3,>=2.21.0->tensorflow) (3.10)\n",
      "Requirement already satisfied: urllib3<3,>=1.21.1 in /Users/ricardomendezcavalieri/Developer/work/IE/Y3/NLP/factos_api/venv/lib/python3.12/site-packages (from requests<3,>=2.21.0->tensorflow) (2.4.0)\n",
      "Requirement already satisfied: certifi>=2017.4.17 in /Users/ricardomendezcavalieri/Developer/work/IE/Y3/NLP/factos_api/venv/lib/python3.12/site-packages (from requests<3,>=2.21.0->tensorflow) (2025.1.31)\n",
      "Requirement already satisfied: markdown>=2.6.8 in /Users/ricardomendezcavalieri/Developer/work/IE/Y3/NLP/factos_api/venv/lib/python3.12/site-packages (from tensorboard~=2.19.0->tensorflow) (3.8)\n",
      "Requirement already satisfied: tensorboard-data-server<0.8.0,>=0.7.0 in /Users/ricardomendezcavalieri/Developer/work/IE/Y3/NLP/factos_api/venv/lib/python3.12/site-packages (from tensorboard~=2.19.0->tensorflow) (0.7.2)\n",
      "Requirement already satisfied: werkzeug>=1.0.1 in /Users/ricardomendezcavalieri/Developer/work/IE/Y3/NLP/factos_api/venv/lib/python3.12/site-packages (from tensorboard~=2.19.0->tensorflow) (3.1.3)\n",
      "Requirement already satisfied: MarkupSafe>=2.1.1 in /Users/ricardomendezcavalieri/Developer/work/IE/Y3/NLP/factos_api/venv/lib/python3.12/site-packages (from werkzeug>=1.0.1->tensorboard~=2.19.0->tensorflow) (3.0.2)\n",
      "Requirement already satisfied: markdown-it-py>=2.2.0 in /Users/ricardomendezcavalieri/Developer/work/IE/Y3/NLP/factos_api/venv/lib/python3.12/site-packages (from rich->keras>=3.5.0->tensorflow) (3.0.0)\n",
      "Requirement already satisfied: pygments<3.0.0,>=2.13.0 in /Users/ricardomendezcavalieri/Developer/work/IE/Y3/NLP/factos_api/venv/lib/python3.12/site-packages (from rich->keras>=3.5.0->tensorflow) (2.19.1)\n",
      "Requirement already satisfied: mdurl~=0.1 in /Users/ricardomendezcavalieri/Developer/work/IE/Y3/NLP/factos_api/venv/lib/python3.12/site-packages (from markdown-it-py>=2.2.0->rich->keras>=3.5.0->tensorflow) (0.1.2)\n",
      "\n",
      "\u001b[1m[\u001b[0m\u001b[34;49mnotice\u001b[0m\u001b[1;39;49m]\u001b[0m\u001b[39;49m A new release of pip is available: \u001b[0m\u001b[31;49m24.0\u001b[0m\u001b[39;49m -> \u001b[0m\u001b[32;49m25.0.1\u001b[0m\n",
      "\u001b[1m[\u001b[0m\u001b[34;49mnotice\u001b[0m\u001b[1;39;49m]\u001b[0m\u001b[39;49m To update, run: \u001b[0m\u001b[32;49mpip install --upgrade pip\u001b[0m\n",
      "Requirement already satisfied: tf-keras in /Users/ricardomendezcavalieri/Developer/work/IE/Y3/NLP/factos_api/venv/lib/python3.12/site-packages (2.19.0)\n",
      "Requirement already satisfied: tensorflow<2.20,>=2.19 in /Users/ricardomendezcavalieri/Developer/work/IE/Y3/NLP/factos_api/venv/lib/python3.12/site-packages (from tf-keras) (2.19.0)\n",
      "Requirement already satisfied: absl-py>=1.0.0 in /Users/ricardomendezcavalieri/Developer/work/IE/Y3/NLP/factos_api/venv/lib/python3.12/site-packages (from tensorflow<2.20,>=2.19->tf-keras) (2.2.2)\n",
      "Requirement already satisfied: astunparse>=1.6.0 in /Users/ricardomendezcavalieri/Developer/work/IE/Y3/NLP/factos_api/venv/lib/python3.12/site-packages (from tensorflow<2.20,>=2.19->tf-keras) (1.6.3)\n",
      "Requirement already satisfied: flatbuffers>=24.3.25 in /Users/ricardomendezcavalieri/Developer/work/IE/Y3/NLP/factos_api/venv/lib/python3.12/site-packages (from tensorflow<2.20,>=2.19->tf-keras) (25.2.10)\n",
      "Requirement already satisfied: gast!=0.5.0,!=0.5.1,!=0.5.2,>=0.2.1 in /Users/ricardomendezcavalieri/Developer/work/IE/Y3/NLP/factos_api/venv/lib/python3.12/site-packages (from tensorflow<2.20,>=2.19->tf-keras) (0.6.0)\n",
      "Requirement already satisfied: google-pasta>=0.1.1 in /Users/ricardomendezcavalieri/Developer/work/IE/Y3/NLP/factos_api/venv/lib/python3.12/site-packages (from tensorflow<2.20,>=2.19->tf-keras) (0.2.0)\n",
      "Requirement already satisfied: libclang>=13.0.0 in /Users/ricardomendezcavalieri/Developer/work/IE/Y3/NLP/factos_api/venv/lib/python3.12/site-packages (from tensorflow<2.20,>=2.19->tf-keras) (18.1.1)\n",
      "Requirement already satisfied: opt-einsum>=2.3.2 in /Users/ricardomendezcavalieri/Developer/work/IE/Y3/NLP/factos_api/venv/lib/python3.12/site-packages (from tensorflow<2.20,>=2.19->tf-keras) (3.4.0)\n",
      "Requirement already satisfied: packaging in /Users/ricardomendezcavalieri/Developer/work/IE/Y3/NLP/factos_api/venv/lib/python3.12/site-packages (from tensorflow<2.20,>=2.19->tf-keras) (24.2)\n",
      "Requirement already satisfied: protobuf!=4.21.0,!=4.21.1,!=4.21.2,!=4.21.3,!=4.21.4,!=4.21.5,<6.0.0dev,>=3.20.3 in /Users/ricardomendezcavalieri/Developer/work/IE/Y3/NLP/factos_api/venv/lib/python3.12/site-packages (from tensorflow<2.20,>=2.19->tf-keras) (5.29.4)\n",
      "Requirement already satisfied: requests<3,>=2.21.0 in /Users/ricardomendezcavalieri/Developer/work/IE/Y3/NLP/factos_api/venv/lib/python3.12/site-packages (from tensorflow<2.20,>=2.19->tf-keras) (2.32.3)\n",
      "Requirement already satisfied: setuptools in /Users/ricardomendezcavalieri/Developer/work/IE/Y3/NLP/factos_api/venv/lib/python3.12/site-packages (from tensorflow<2.20,>=2.19->tf-keras) (78.1.0)\n",
      "Requirement already satisfied: six>=1.12.0 in /Users/ricardomendezcavalieri/Developer/work/IE/Y3/NLP/factos_api/venv/lib/python3.12/site-packages (from tensorflow<2.20,>=2.19->tf-keras) (1.17.0)\n",
      "Requirement already satisfied: termcolor>=1.1.0 in /Users/ricardomendezcavalieri/Developer/work/IE/Y3/NLP/factos_api/venv/lib/python3.12/site-packages (from tensorflow<2.20,>=2.19->tf-keras) (3.0.1)\n",
      "Requirement already satisfied: typing-extensions>=3.6.6 in /Users/ricardomendezcavalieri/Developer/work/IE/Y3/NLP/factos_api/venv/lib/python3.12/site-packages (from tensorflow<2.20,>=2.19->tf-keras) (4.13.2)\n",
      "Requirement already satisfied: wrapt>=1.11.0 in /Users/ricardomendezcavalieri/Developer/work/IE/Y3/NLP/factos_api/venv/lib/python3.12/site-packages (from tensorflow<2.20,>=2.19->tf-keras) (1.17.2)\n",
      "Requirement already satisfied: grpcio<2.0,>=1.24.3 in /Users/ricardomendezcavalieri/Developer/work/IE/Y3/NLP/factos_api/venv/lib/python3.12/site-packages (from tensorflow<2.20,>=2.19->tf-keras) (1.71.0)\n",
      "Requirement already satisfied: tensorboard~=2.19.0 in /Users/ricardomendezcavalieri/Developer/work/IE/Y3/NLP/factos_api/venv/lib/python3.12/site-packages (from tensorflow<2.20,>=2.19->tf-keras) (2.19.0)\n",
      "Requirement already satisfied: keras>=3.5.0 in /Users/ricardomendezcavalieri/Developer/work/IE/Y3/NLP/factos_api/venv/lib/python3.12/site-packages (from tensorflow<2.20,>=2.19->tf-keras) (3.9.2)\n",
      "Requirement already satisfied: numpy<2.2.0,>=1.26.0 in /Users/ricardomendezcavalieri/Developer/work/IE/Y3/NLP/factos_api/venv/lib/python3.12/site-packages (from tensorflow<2.20,>=2.19->tf-keras) (2.1.3)\n",
      "Requirement already satisfied: h5py>=3.11.0 in /Users/ricardomendezcavalieri/Developer/work/IE/Y3/NLP/factos_api/venv/lib/python3.12/site-packages (from tensorflow<2.20,>=2.19->tf-keras) (3.13.0)\n",
      "Requirement already satisfied: ml-dtypes<1.0.0,>=0.5.1 in /Users/ricardomendezcavalieri/Developer/work/IE/Y3/NLP/factos_api/venv/lib/python3.12/site-packages (from tensorflow<2.20,>=2.19->tf-keras) (0.5.1)\n",
      "Requirement already satisfied: wheel<1.0,>=0.23.0 in /Users/ricardomendezcavalieri/Developer/work/IE/Y3/NLP/factos_api/venv/lib/python3.12/site-packages (from astunparse>=1.6.0->tensorflow<2.20,>=2.19->tf-keras) (0.45.1)\n",
      "Requirement already satisfied: rich in /Users/ricardomendezcavalieri/Developer/work/IE/Y3/NLP/factos_api/venv/lib/python3.12/site-packages (from keras>=3.5.0->tensorflow<2.20,>=2.19->tf-keras) (14.0.0)\n",
      "Requirement already satisfied: namex in /Users/ricardomendezcavalieri/Developer/work/IE/Y3/NLP/factos_api/venv/lib/python3.12/site-packages (from keras>=3.5.0->tensorflow<2.20,>=2.19->tf-keras) (0.0.9)\n",
      "Requirement already satisfied: optree in /Users/ricardomendezcavalieri/Developer/work/IE/Y3/NLP/factos_api/venv/lib/python3.12/site-packages (from keras>=3.5.0->tensorflow<2.20,>=2.19->tf-keras) (0.15.0)\n",
      "Requirement already satisfied: charset-normalizer<4,>=2 in /Users/ricardomendezcavalieri/Developer/work/IE/Y3/NLP/factos_api/venv/lib/python3.12/site-packages (from requests<3,>=2.21.0->tensorflow<2.20,>=2.19->tf-keras) (3.4.1)\n",
      "Requirement already satisfied: idna<4,>=2.5 in /Users/ricardomendezcavalieri/Developer/work/IE/Y3/NLP/factos_api/venv/lib/python3.12/site-packages (from requests<3,>=2.21.0->tensorflow<2.20,>=2.19->tf-keras) (3.10)\n",
      "Requirement already satisfied: urllib3<3,>=1.21.1 in /Users/ricardomendezcavalieri/Developer/work/IE/Y3/NLP/factos_api/venv/lib/python3.12/site-packages (from requests<3,>=2.21.0->tensorflow<2.20,>=2.19->tf-keras) (2.4.0)\n",
      "Requirement already satisfied: certifi>=2017.4.17 in /Users/ricardomendezcavalieri/Developer/work/IE/Y3/NLP/factos_api/venv/lib/python3.12/site-packages (from requests<3,>=2.21.0->tensorflow<2.20,>=2.19->tf-keras) (2025.1.31)\n",
      "Requirement already satisfied: markdown>=2.6.8 in /Users/ricardomendezcavalieri/Developer/work/IE/Y3/NLP/factos_api/venv/lib/python3.12/site-packages (from tensorboard~=2.19.0->tensorflow<2.20,>=2.19->tf-keras) (3.8)\n",
      "Requirement already satisfied: tensorboard-data-server<0.8.0,>=0.7.0 in /Users/ricardomendezcavalieri/Developer/work/IE/Y3/NLP/factos_api/venv/lib/python3.12/site-packages (from tensorboard~=2.19.0->tensorflow<2.20,>=2.19->tf-keras) (0.7.2)\n",
      "Requirement already satisfied: werkzeug>=1.0.1 in /Users/ricardomendezcavalieri/Developer/work/IE/Y3/NLP/factos_api/venv/lib/python3.12/site-packages (from tensorboard~=2.19.0->tensorflow<2.20,>=2.19->tf-keras) (3.1.3)\n",
      "Requirement already satisfied: MarkupSafe>=2.1.1 in /Users/ricardomendezcavalieri/Developer/work/IE/Y3/NLP/factos_api/venv/lib/python3.12/site-packages (from werkzeug>=1.0.1->tensorboard~=2.19.0->tensorflow<2.20,>=2.19->tf-keras) (3.0.2)\n",
      "Requirement already satisfied: markdown-it-py>=2.2.0 in /Users/ricardomendezcavalieri/Developer/work/IE/Y3/NLP/factos_api/venv/lib/python3.12/site-packages (from rich->keras>=3.5.0->tensorflow<2.20,>=2.19->tf-keras) (3.0.0)\n",
      "Requirement already satisfied: pygments<3.0.0,>=2.13.0 in /Users/ricardomendezcavalieri/Developer/work/IE/Y3/NLP/factos_api/venv/lib/python3.12/site-packages (from rich->keras>=3.5.0->tensorflow<2.20,>=2.19->tf-keras) (2.19.1)\n",
      "Requirement already satisfied: mdurl~=0.1 in /Users/ricardomendezcavalieri/Developer/work/IE/Y3/NLP/factos_api/venv/lib/python3.12/site-packages (from markdown-it-py>=2.2.0->rich->keras>=3.5.0->tensorflow<2.20,>=2.19->tf-keras) (0.1.2)\n",
      "\n",
      "\u001b[1m[\u001b[0m\u001b[34;49mnotice\u001b[0m\u001b[1;39;49m]\u001b[0m\u001b[39;49m A new release of pip is available: \u001b[0m\u001b[31;49m24.0\u001b[0m\u001b[39;49m -> \u001b[0m\u001b[32;49m25.0.1\u001b[0m\n",
      "\u001b[1m[\u001b[0m\u001b[34;49mnotice\u001b[0m\u001b[1;39;49m]\u001b[0m\u001b[39;49m To update, run: \u001b[0m\u001b[32;49mpip install --upgrade pip\u001b[0m\n",
      "Collecting scikeras\n",
      "  Downloading scikeras-0.13.0-py3-none-any.whl.metadata (3.1 kB)\n",
      "Requirement already satisfied: keras>=3.2.0 in /Users/ricardomendezcavalieri/Developer/work/IE/Y3/NLP/factos_api/venv/lib/python3.12/site-packages (from scikeras) (3.9.2)\n",
      "Requirement already satisfied: scikit-learn>=1.4.2 in /Users/ricardomendezcavalieri/Developer/work/IE/Y3/NLP/factos_api/venv/lib/python3.12/site-packages (from scikeras) (1.6.1)\n",
      "Requirement already satisfied: absl-py in /Users/ricardomendezcavalieri/Developer/work/IE/Y3/NLP/factos_api/venv/lib/python3.12/site-packages (from keras>=3.2.0->scikeras) (2.2.2)\n",
      "Requirement already satisfied: numpy in /Users/ricardomendezcavalieri/Developer/work/IE/Y3/NLP/factos_api/venv/lib/python3.12/site-packages (from keras>=3.2.0->scikeras) (2.1.3)\n",
      "Requirement already satisfied: rich in /Users/ricardomendezcavalieri/Developer/work/IE/Y3/NLP/factos_api/venv/lib/python3.12/site-packages (from keras>=3.2.0->scikeras) (14.0.0)\n",
      "Requirement already satisfied: namex in /Users/ricardomendezcavalieri/Developer/work/IE/Y3/NLP/factos_api/venv/lib/python3.12/site-packages (from keras>=3.2.0->scikeras) (0.0.9)\n",
      "Requirement already satisfied: h5py in /Users/ricardomendezcavalieri/Developer/work/IE/Y3/NLP/factos_api/venv/lib/python3.12/site-packages (from keras>=3.2.0->scikeras) (3.13.0)\n",
      "Requirement already satisfied: optree in /Users/ricardomendezcavalieri/Developer/work/IE/Y3/NLP/factos_api/venv/lib/python3.12/site-packages (from keras>=3.2.0->scikeras) (0.15.0)\n",
      "Requirement already satisfied: ml-dtypes in /Users/ricardomendezcavalieri/Developer/work/IE/Y3/NLP/factos_api/venv/lib/python3.12/site-packages (from keras>=3.2.0->scikeras) (0.5.1)\n",
      "Requirement already satisfied: packaging in /Users/ricardomendezcavalieri/Developer/work/IE/Y3/NLP/factos_api/venv/lib/python3.12/site-packages (from keras>=3.2.0->scikeras) (24.2)\n",
      "Requirement already satisfied: scipy>=1.6.0 in /Users/ricardomendezcavalieri/Developer/work/IE/Y3/NLP/factos_api/venv/lib/python3.12/site-packages (from scikit-learn>=1.4.2->scikeras) (1.15.2)\n",
      "Requirement already satisfied: joblib>=1.2.0 in /Users/ricardomendezcavalieri/Developer/work/IE/Y3/NLP/factos_api/venv/lib/python3.12/site-packages (from scikit-learn>=1.4.2->scikeras) (1.4.2)\n",
      "Requirement already satisfied: threadpoolctl>=3.1.0 in /Users/ricardomendezcavalieri/Developer/work/IE/Y3/NLP/factos_api/venv/lib/python3.12/site-packages (from scikit-learn>=1.4.2->scikeras) (3.6.0)\n",
      "Requirement already satisfied: typing-extensions>=4.5.0 in /Users/ricardomendezcavalieri/Developer/work/IE/Y3/NLP/factos_api/venv/lib/python3.12/site-packages (from optree->keras>=3.2.0->scikeras) (4.13.2)\n",
      "Requirement already satisfied: markdown-it-py>=2.2.0 in /Users/ricardomendezcavalieri/Developer/work/IE/Y3/NLP/factos_api/venv/lib/python3.12/site-packages (from rich->keras>=3.2.0->scikeras) (3.0.0)\n",
      "Requirement already satisfied: pygments<3.0.0,>=2.13.0 in /Users/ricardomendezcavalieri/Developer/work/IE/Y3/NLP/factos_api/venv/lib/python3.12/site-packages (from rich->keras>=3.2.0->scikeras) (2.19.1)\n",
      "Requirement already satisfied: mdurl~=0.1 in /Users/ricardomendezcavalieri/Developer/work/IE/Y3/NLP/factos_api/venv/lib/python3.12/site-packages (from markdown-it-py>=2.2.0->rich->keras>=3.2.0->scikeras) (0.1.2)\n",
      "Downloading scikeras-0.13.0-py3-none-any.whl (26 kB)\n",
      "Installing collected packages: scikeras\n",
      "Successfully installed scikeras-0.13.0\n",
      "\n",
      "\u001b[1m[\u001b[0m\u001b[34;49mnotice\u001b[0m\u001b[1;39;49m]\u001b[0m\u001b[39;49m A new release of pip is available: \u001b[0m\u001b[31;49m24.0\u001b[0m\u001b[39;49m -> \u001b[0m\u001b[32;49m25.0.1\u001b[0m\n",
      "\u001b[1m[\u001b[0m\u001b[34;49mnotice\u001b[0m\u001b[1;39;49m]\u001b[0m\u001b[39;49m To update, run: \u001b[0m\u001b[32;49mpip install --upgrade pip\u001b[0m\n"
     ]
    }
   ],
   "source": [
    "!pip install scikit-learn\n",
    "!pip install keras\n",
    "!pip install tensorflow\n",
    "!pip install tf-keras\n",
    "!pip install scikeras"
   ]
  },
  {
   "cell_type": "code",
   "execution_count": 2,
   "metadata": {},
   "outputs": [],
   "source": [
    "import pandas as pd"
   ]
  },
  {
   "cell_type": "code",
   "execution_count": 11,
   "metadata": {},
   "outputs": [
    {
     "data": {
      "text/plain": [
       "(44898, 23)"
      ]
     },
     "execution_count": 11,
     "metadata": {},
     "output_type": "execute_result"
    }
   ],
   "source": [
    "df = pd.read_csv('../../data/processed_dataset.csv')\n",
    "\n",
    "df.shape"
   ]
  },
  {
   "cell_type": "code",
   "execution_count": 17,
   "metadata": {},
   "outputs": [],
   "source": [
    "X = df['text']\n",
    "y = df['label']\n",
    "\n",
    "from sklearn.model_selection import train_test_split\n",
    "X_train, X_test, y_train, y_test = train_test_split(X, y, test_size=0.2, random_state=42)\n"
   ]
  },
  {
   "cell_type": "code",
   "execution_count": 18,
   "metadata": {},
   "outputs": [],
   "source": [
    "from tensorflow.keras.preprocessing.text import Tokenizer\n",
    "\n",
    "vocab_size = 5000\n",
    "oov_token = \"<OOV>\"\n",
    "\n",
    "tokenizer = Tokenizer(num_words=vocab_size, oov_token=oov_token)\n",
    "tokenizer.fit_on_texts(X_train)\n",
    "\n",
    "X_train_sequences = tokenizer.texts_to_sequences(X_train)\n",
    "X_test_sequences = tokenizer.texts_to_sequences(X_test)\n"
   ]
  },
  {
   "cell_type": "code",
   "execution_count": 20,
   "metadata": {},
   "outputs": [],
   "source": [
    "from tensorflow.keras.preprocessing.sequence import pad_sequences\n",
    "\n",
    "\n",
    "max_length = 100\n",
    "padding_type = \"post\"\n",
    "trunction_type=\"post\"\n",
    "X_train_padded = pad_sequences(X_train_sequences,maxlen=max_length, padding=padding_type,\n",
    "                       truncating=trunction_type)\n",
    "X_test_padded = pad_sequences(X_test_sequences,maxlen=max_length,\n",
    "                               padding=padding_type, truncating=trunction_type)"
   ]
  },
  {
   "cell_type": "code",
   "execution_count": 21,
   "metadata": {},
   "outputs": [
    {
     "name": "stdout",
     "output_type": "stream",
     "text": [
      "--2025-04-23 00:45:34--  http://nlp.stanford.edu/data/glove.6B.zip\n",
      "Resolving nlp.stanford.edu (nlp.stanford.edu)... 171.64.67.140\n",
      "Connecting to nlp.stanford.edu (nlp.stanford.edu)|171.64.67.140|:80... connected.\n",
      "HTTP request sent, awaiting response... 302 Found\n",
      "Location: https://nlp.stanford.edu/data/glove.6B.zip [following]\n",
      "--2025-04-23 00:45:34--  https://nlp.stanford.edu/data/glove.6B.zip\n",
      "Connecting to nlp.stanford.edu (nlp.stanford.edu)|171.64.67.140|:443... connected.\n",
      "HTTP request sent, awaiting response... 301 Moved Permanently\n",
      "Location: https://downloads.cs.stanford.edu/nlp/data/glove.6B.zip [following]\n",
      "--2025-04-23 00:45:34--  https://downloads.cs.stanford.edu/nlp/data/glove.6B.zip\n",
      "Resolving downloads.cs.stanford.edu (downloads.cs.stanford.edu)... 171.64.64.22\n",
      "Connecting to downloads.cs.stanford.edu (downloads.cs.stanford.edu)|171.64.64.22|:443... connected.\n",
      "HTTP request sent, awaiting response... 200 OK\n",
      "Length: 862182613 (822M) [application/zip]\n",
      "Saving to: ‘/tmp/glove.6B.zip’\n",
      "\n",
      "/tmp/glove.6B.zip   100%[===================>] 822,24M  5,12MB/s    in 2m 40s  \n",
      "\n",
      "2025-04-23 00:48:15 (5,15 MB/s) - ‘/tmp/glove.6B.zip’ saved [862182613/862182613]\n",
      "\n"
     ]
    }
   ],
   "source": [
    "!wget --no-check-certificate \\\n",
    "http://nlp.stanford.edu/data/glove.6B.zip \\\n",
    "-O /tmp/glove.6B.zip"
   ]
  },
  {
   "cell_type": "code",
   "execution_count": 22,
   "metadata": {},
   "outputs": [],
   "source": [
    "import os\n",
    "import zipfile\n",
    "with zipfile.ZipFile('/tmp/glove.6B.zip', 'r') as zip_ref:\n",
    "    zip_ref.extractall('/tmp/glove')"
   ]
  },
  {
   "cell_type": "code",
   "execution_count": 23,
   "metadata": {},
   "outputs": [
    {
     "name": "stdout",
     "output_type": "stream",
     "text": [
      "Found 400000 word vectors.\n"
     ]
    }
   ],
   "source": [
    "import numpy as np\n",
    "embeddings_index = {}\n",
    "f = open('/tmp/glove/glove.6B.100d.txt')\n",
    "for line in f:\n",
    "    values = line.split()\n",
    "    word = values[0]\n",
    "    coefs = np.asarray(values[1:], dtype='float32')\n",
    "    embeddings_index[word] = coefs\n",
    "f.close()\n",
    "\n",
    "print('Found %s word vectors.' % len(embeddings_index))"
   ]
  },
  {
   "cell_type": "code",
   "execution_count": 24,
   "metadata": {},
   "outputs": [
    {
     "data": {
      "text/plain": [
       "array([-0.85034  ,  0.33358  , -0.65889  , -0.49871  ,  0.36585  ,\n",
       "       -0.19245  ,  0.25658  , -0.053408 ,  0.31474  ,  0.2443   ,\n",
       "        0.29337  , -0.44917  ,  0.15175  ,  0.39314  , -0.31786  ,\n",
       "        0.060525 ,  0.81775  , -0.38847  ,  0.76761  , -1.1041   ,\n",
       "       -0.1544   ,  0.31655  , -0.37238  , -0.11485  ,  0.51635  ,\n",
       "       -0.39289  ,  0.16301  , -0.2532   , -0.50976  ,  0.15201  ,\n",
       "        0.27808  ,  0.52522  , -0.38815  , -0.3472   , -0.61818  ,\n",
       "        0.17022  ,  0.12251  , -0.24191  , -0.38877  , -0.53176  ,\n",
       "       -0.46987  , -0.70502  , -0.62126  , -0.38689  , -0.85637  ,\n",
       "       -0.41003  , -0.47487  , -0.21083  , -0.81338  , -0.52398  ,\n",
       "        0.49894  ,  0.37909  ,  0.55428  ,  1.123    , -0.42121  ,\n",
       "       -1.5674   , -0.56892  ,  0.40819  ,  1.7949   ,  0.16856  ,\n",
       "       -0.0029332,  0.28786  , -0.90088  , -0.094214 ,  0.79993  ,\n",
       "       -0.39096  ,  0.76286  ,  0.71307  ,  0.13194  , -0.40756  ,\n",
       "       -0.18687  ,  0.89562  ,  0.46867  , -0.0028801,  0.025306 ,\n",
       "        1.0084   ,  0.17135  ,  0.59742  , -1.1003   ,  0.49305  ,\n",
       "        0.41782  ,  0.17285  , -0.49474  ,  0.087837 , -0.9669   ,\n",
       "       -1.092    ,  0.33896  , -0.51288  ,  0.24643  ,  0.27141  ,\n",
       "        0.24206  , -0.21707  ,  0.55035  ,  0.0082243, -0.45572  ,\n",
       "        0.13528  , -0.043146 , -0.41408  ,  0.70051  ,  0.18775  ],\n",
       "      dtype=float32)"
      ]
     },
     "execution_count": 24,
     "metadata": {},
     "output_type": "execute_result"
    }
   ],
   "source": [
    "embeddings_index.get(\"paper\")"
   ]
  },
  {
   "cell_type": "code",
   "execution_count": 25,
   "metadata": {},
   "outputs": [],
   "source": [
    "word_index = tokenizer.word_index\n",
    "\n",
    "embedding_matrix = np.zeros((len(word_index) + 1, max_length))\n",
    "for word, i in word_index.items():\n",
    "    embedding_vector = embeddings_index.get(word)\n",
    "    if embedding_vector is not None:\n",
    "        # words not found in embedding index will be all-zeros.\n",
    "        embedding_matrix[i] = embedding_vector"
   ]
  },
  {
   "cell_type": "code",
   "execution_count": 26,
   "metadata": {},
   "outputs": [
    {
     "data": {
      "text/plain": [
       "(125546, 100)"
      ]
     },
     "execution_count": 26,
     "metadata": {},
     "output_type": "execute_result"
    }
   ],
   "source": [
    "embedding_matrix.shape"
   ]
  },
  {
   "cell_type": "code",
   "execution_count": 27,
   "metadata": {},
   "outputs": [
    {
     "name": "stderr",
     "output_type": "stream",
     "text": [
      "/Users/ricardomendezcavalieri/Developer/work/IE/Y3/NLP/factos_api/venv/lib/python3.12/site-packages/keras/src/layers/core/embedding.py:90: UserWarning: Argument `input_length` is deprecated. Just remove it.\n",
      "  warnings.warn(\n"
     ]
    }
   ],
   "source": [
    "from tensorflow.keras.layers import Embedding\n",
    "\n",
    "embedding_layer = Embedding(input_dim=len(word_index) + 1,\n",
    "                            output_dim=max_length,\n",
    "                            weights=[embedding_matrix],\n",
    "                            input_length=max_length,\n",
    "                            trainable=False)"
   ]
  },
  {
   "cell_type": "code",
   "execution_count": 28,
   "metadata": {},
   "outputs": [],
   "source": [
    "from tensorflow.keras.models import Sequential\n",
    "from tensorflow.keras.layers import Conv1D, GlobalMaxPooling1D, Dense\n",
    "\n",
    "model = Sequential([\n",
    "    embedding_layer,\n",
    "  Conv1D(128, 5, activation='relu'),\n",
    "  GlobalMaxPooling1D(),\n",
    "  Dense(10, activation='relu'),\n",
    "  Dense(1, activation='sigmoid')\n",
    "])"
   ]
  },
  {
   "cell_type": "code",
   "execution_count": 29,
   "metadata": {},
   "outputs": [],
   "source": [
    "model.compile(loss='binary_crossentropy',optimizer='adam',metrics=['accuracy'])"
   ]
  },
  {
   "cell_type": "code",
   "execution_count": 31,
   "metadata": {},
   "outputs": [
    {
     "name": "stdout",
     "output_type": "stream",
     "text": [
      "Epoch 1/20\n",
      "\u001b[1m1123/1123\u001b[0m \u001b[32m━━━━━━━━━━━━━━━━━━━━\u001b[0m\u001b[37m\u001b[0m \u001b[1m8s\u001b[0m 7ms/step - accuracy: 0.9999 - loss: 9.1373e-04 - val_accuracy: 0.9992 - val_loss: 0.0050\n",
      "Epoch 2/20\n",
      "\u001b[1m1123/1123\u001b[0m \u001b[32m━━━━━━━━━━━━━━━━━━━━\u001b[0m\u001b[37m\u001b[0m \u001b[1m8s\u001b[0m 7ms/step - accuracy: 1.0000 - loss: 8.6879e-05 - val_accuracy: 0.9992 - val_loss: 0.0052\n"
     ]
    }
   ],
   "source": [
    "\n",
    "from tensorflow.keras.callbacks import EarlyStopping\n",
    "\n",
    "early_stopping = EarlyStopping(\n",
    "    monitor='val_loss',\n",
    "    patience=0,  # Stop immediately when validation loss exceeds training loss\n",
    "    restore_best_weights=True\n",
    ")\n",
    "\n",
    "history = model.fit(\n",
    "    X_train_padded, \n",
    "    y_train,\n",
    "    epochs=20,\n",
    "    validation_data=(X_test_padded, y_test),\n",
    "    callbacks=[early_stopping]\n",
    ")"
   ]
  },
  {
   "cell_type": "code",
   "execution_count": 32,
   "metadata": {},
   "outputs": [
    {
     "name": "stdout",
     "output_type": "stream",
     "text": [
      "\u001b[1m281/281\u001b[0m \u001b[32m━━━━━━━━━━━━━━━━━━━━\u001b[0m\u001b[37m\u001b[0m \u001b[1m1s\u001b[0m 3ms/step - accuracy: 0.9993 - loss: 0.0031\n",
      "Testing Accuracy is 99.92204904556274 \n"
     ]
    }
   ],
   "source": [
    "loss, accuracy = model.evaluate(X_test_padded,y_test)\n",
    "print('Testing Accuracy is {} '.format(accuracy*100))"
   ]
  },
  {
   "cell_type": "code",
   "execution_count": 50,
   "metadata": {},
   "outputs": [
    {
     "name": "stdout",
     "output_type": "stream",
     "text": [
      "\n",
      "🔧 Training with num_filters=128, kernel_size=3\n",
      "✅ Validation Accuracy: 0.9989\n",
      "\n",
      "🔧 Training with num_filters=128, kernel_size=5\n",
      "✅ Validation Accuracy: 0.9985\n",
      "\n",
      "🔧 Training with num_filters=256, kernel_size=3\n",
      "✅ Validation Accuracy: 0.9986\n",
      "\n",
      "🔧 Training with num_filters=256, kernel_size=5\n",
      "✅ Validation Accuracy: 0.9983\n",
      "\n",
      "🏆 Best combination:\n",
      "{'num_filters': 128, 'kernel_size': 3, 'val_accuracy': 0.9988864064216614}\n"
     ]
    }
   ],
   "source": [
    "import itertools\n",
    "import numpy as np\n",
    "from keras.models import Sequential\n",
    "from keras.layers import Conv1D, GlobalMaxPooling1D, Dense\n",
    "from sklearn.model_selection import train_test_split\n",
    "\n",
    "# Split a validation set manually\n",
    "X_train_part, X_val, y_train_part, y_val = train_test_split(\n",
    "    X_train_padded, y_train, test_size=0.2, random_state=42\n",
    ")\n",
    "\n",
    "param_grid = {\n",
    "    'num_filters': [128, 256],\n",
    "    'kernel_size': [3, 5]\n",
    "}\n",
    "\n",
    "param_combinations = list(itertools.product(\n",
    "    param_grid['num_filters'],\n",
    "    param_grid['kernel_size']\n",
    "))\n",
    "\n",
    "results = []\n",
    "\n",
    "for num_filters, kernel_size in param_combinations:\n",
    "    print(f\"\\n🔧 Training with num_filters={num_filters}, kernel_size={kernel_size}\")\n",
    "    \n",
    "    model = Sequential([\n",
    "        embedding_layer,  # This must be defined earlier\n",
    "        Conv1D(num_filters, kernel_size, activation='relu'),\n",
    "        GlobalMaxPooling1D(),\n",
    "        Dense(10, activation='relu'),\n",
    "        Dense(1, activation='sigmoid')\n",
    "    ])\n",
    "    \n",
    "    model.compile(optimizer='adam', loss='binary_crossentropy', metrics=['accuracy'])\n",
    "    \n",
    "    # Train the model\n",
    "    history = model.fit(\n",
    "        X_train_part, y_train_part,\n",
    "        epochs=10,\n",
    "        batch_size=32,\n",
    "        verbose=0,\n",
    "        validation_data=(X_val, y_val)\n",
    "    )\n",
    "    \n",
    "    val_acc = history.history['val_accuracy'][-1]\n",
    "    print(f\"✅ Validation Accuracy: {val_acc:.4f}\")\n",
    "    \n",
    "    results.append({\n",
    "        'num_filters': num_filters,\n",
    "        'kernel_size': kernel_size,\n",
    "        'val_accuracy': val_acc\n",
    "    })\n",
    "\n",
    "# Sort by best val accuracy\n",
    "best_result = sorted(results, key=lambda x: x['val_accuracy'], reverse=True)[0]\n",
    "\n",
    "print(\"\\n🏆 Best combination:\")\n",
    "print(best_result)"
   ]
  },
  {
   "cell_type": "code",
   "execution_count": 55,
   "metadata": {},
   "outputs": [
    {
     "name": "stdout",
     "output_type": "stream",
     "text": [
      "Epoch 1/20\n",
      "\u001b[1m1123/1123\u001b[0m \u001b[32m━━━━━━━━━━━━━━━━━━━━\u001b[0m\u001b[37m\u001b[0m \u001b[1m8s\u001b[0m 6ms/step - accuracy: 0.8897 - loss: 0.2202 - val_accuracy: 0.9984 - val_loss: 0.0060\n",
      "Epoch 2/20\n",
      "\u001b[1m1123/1123\u001b[0m \u001b[32m━━━━━━━━━━━━━━━━━━━━\u001b[0m\u001b[37m\u001b[0m \u001b[1m6s\u001b[0m 5ms/step - accuracy: 0.9988 - loss: 0.0061 - val_accuracy: 0.9986 - val_loss: 0.0056\n",
      "Epoch 3/20\n",
      "\u001b[1m1123/1123\u001b[0m \u001b[32m━━━━━━━━━━━━━━━━━━━━\u001b[0m\u001b[37m\u001b[0m \u001b[1m6s\u001b[0m 5ms/step - accuracy: 0.9996 - loss: 0.0019 - val_accuracy: 0.9991 - val_loss: 0.0030\n",
      "Epoch 4/20\n",
      "\u001b[1m1123/1123\u001b[0m \u001b[32m━━━━━━━━━━━━━━━━━━━━\u001b[0m\u001b[37m\u001b[0m \u001b[1m6s\u001b[0m 5ms/step - accuracy: 0.9999 - loss: 4.5514e-04 - val_accuracy: 0.9991 - val_loss: 0.0037\n"
     ]
    }
   ],
   "source": [
    "# Download the best model\n",
    "\n",
    "# Save the best model\n",
    "best_model = Sequential([\n",
    "    embedding_layer,\n",
    "    Conv1D(best_result['num_filters'], best_result['kernel_size'], activation='relu'),\n",
    "    GlobalMaxPooling1D(),\n",
    "    Dense(10, activation='relu'),\n",
    "    Dense(1, activation='sigmoid')\n",
    "])\n",
    "best_model.compile(optimizer='adam', loss='binary_crossentropy', metrics=['accuracy'])\n",
    "\n",
    "\n",
    "early_stopping = EarlyStopping(\n",
    "    monitor='val_loss',\n",
    "    patience=0,\n",
    "    restore_best_weights=True\n",
    ")\n",
    "\n",
    "best_model.fit(\n",
    "    X_train_padded, \n",
    "    y_train,\n",
    "    epochs=20,\n",
    "    validation_data=(X_test_padded, y_test),\n",
    "    callbacks=[early_stopping]\n",
    ")\n",
    "\n",
    "# Save the best model\n",
    "best_model.save('best_model.keras')\n"
   ]
  },
  {
   "cell_type": "code",
   "execution_count": 56,
   "metadata": {},
   "outputs": [
    {
     "name": "stdout",
     "output_type": "stream",
     "text": [
      "\u001b[1m281/281\u001b[0m \u001b[32m━━━━━━━━━━━━━━━━━━━━\u001b[0m\u001b[37m\u001b[0m \u001b[1m1s\u001b[0m 2ms/step - accuracy: 0.9990 - loss: 0.0029\n",
      "🔍 Testing Accuracy: 0.9991\n"
     ]
    }
   ],
   "source": [
    "from tensorflow import keras\n",
    "\n",
    "# Load the best model\n",
    "best_model = keras.models.load_model('best_model.keras')\n",
    "\n",
    "# Evaluate the best model\n",
    "loss, accuracy = best_model.evaluate(X_test_padded, y_test)\n",
    "print(f\"🔍 Testing Accuracy: {accuracy:.4f}\")\n"
   ]
  },
  {
   "cell_type": "code",
   "execution_count": null,
   "metadata": {},
   "outputs": [
    {
     "name": "stdout",
     "output_type": "stream",
     "text": [
      "\u001b[1m281/281\u001b[0m \u001b[32m━━━━━━━━━━━━━━━━━━━━\u001b[0m\u001b[37m\u001b[0m \u001b[1m1s\u001b[0m 2ms/step\n",
      "\n",
      "📊 Model Performance Report\n",
      "==================================================\n",
      "Precision:       0.9993\n",
      "Recall:         0.9988\n",
      "F1 Score:       0.9991\n",
      "\n",
      "Confusion Matrix:\n",
      "--------------------\n",
      "True Negatives:  4730\n",
      "False Positives: 3\n",
      "False Negatives: 5\n",
      "True Positives:  4242\n",
      "==================================================\n"
     ]
    }
   ],
   "source": [
    "# Reporting the Precision, Recall, F1 Score, and Confusion Matrix\n",
    "from sklearn.metrics import precision_score, recall_score, f1_score, confusion_matrix\n",
    "\n",
    "# Predict on the test set\n",
    "y_pred = best_model.predict(X_test_padded)\n",
    "y_pred = (y_pred > 0.5).astype(int)\n",
    "\n",
    "# Calculate all metrics\n",
    "precision = precision_score(y_test, y_pred)\n",
    "recall = recall_score(y_test, y_pred)\n",
    "f1 = f1_score(y_test, y_pred)\n",
    "conf_matrix = confusion_matrix(y_test, y_pred)\n",
    "\n",
    "print(\"\\n📊 Model Performance Report\")\n",
    "print(\"=\" * 50)\n",
    "print(f\"Precision:       {precision:.4f}\")\n",
    "print(f\"Recall:         {recall:.4f}\") \n",
    "print(f\"F1 Score:       {f1:.4f}\")\n",
    "print(\"\\nConfusion Matrix:\")\n",
    "print(\"-\" * 20)\n",
    "print(f\"True Negatives:  {conf_matrix[0][0]}\")\n",
    "print(f\"False Positives: {conf_matrix[0][1]}\")\n",
    "print(f\"False Negatives: {conf_matrix[1][0]}\")\n",
    "print(f\"True Positives:  {conf_matrix[1][1]}\")\n",
    "print(\"=\" * 50)\n",
    "\n"
   ]
  },
  {
   "cell_type": "code",
   "execution_count": 66,
   "metadata": {},
   "outputs": [
    {
     "data": {
      "text/plain": [
       "array([[0],\n",
       "       [1],\n",
       "       [1],\n",
       "       ...,\n",
       "       [0],\n",
       "       [0],\n",
       "       [0]])"
      ]
     },
     "execution_count": 66,
     "metadata": {},
     "output_type": "execute_result"
    }
   ],
   "source": [
    "y_pred"
   ]
  },
  {
   "cell_type": "code",
   "execution_count": 70,
   "metadata": {},
   "outputs": [
    {
     "name": "stdout",
     "output_type": "stream",
     "text": [
      "\u001b[1m1/1\u001b[0m \u001b[32m━━━━━━━━━━━━━━━━━━━━\u001b[0m\u001b[37m\u001b[0m \u001b[1m0s\u001b[0m 19ms/step\n",
      "🔍 Raw Prediction Score: 0.0002\n",
      "🏷️ Predicted Label: 0 (False)\n"
     ]
    }
   ],
   "source": [
    "# Use the model in an example\n",
    "\n",
    "# Example usage\n",
    "example_text = \"The Federal Reserve announced yesterday that it will maintain current interest rates following its latest policy meeting. According to Chairperson Janet Powell, economic indicators show steady growth at 2.3% annually, while inflation remains within the target range of 2%. Several economists from major financial institutions have expressed support for this decision, citing recent employment data that shows unemployment holding steady at 3.6%. The Treasury Department is expected to release additional economic forecasts next week.\"\n",
    "example_sequence = tokenizer.texts_to_sequences([example_text])\n",
    "example_padded = pad_sequences(example_sequence, maxlen=max_length, padding='post')\n",
    "\n",
    "# Predict the example\n",
    "prediction = best_model.predict(example_padded)\n",
    "predicted_label = 1 if prediction[0][0] >= 0.5 else 0\n",
    "print(f\"🔍 Raw Prediction Score: {prediction[0][0]:.4f}\")\n",
    "print(f\"🏷️ Predicted Label: {predicted_label} ({'True' if predicted_label == 1 else 'False'})\")\n"
   ]
  }
 ],
 "metadata": {
  "kernelspec": {
   "display_name": "venv",
   "language": "python",
   "name": "python3"
  },
  "language_info": {
   "codemirror_mode": {
    "name": "ipython",
    "version": 3
   },
   "file_extension": ".py",
   "mimetype": "text/x-python",
   "name": "python",
   "nbconvert_exporter": "python",
   "pygments_lexer": "ipython3",
   "version": "3.12.4"
  }
 },
 "nbformat": 4,
 "nbformat_minor": 2
}
